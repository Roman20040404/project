{
  "nbformat": 4,
  "nbformat_minor": 0,
  "metadata": {
    "colab": {
      "provenance": []
    },
    "kernelspec": {
      "name": "python3",
      "display_name": "Python 3"
    },
    "language_info": {
      "name": "python"
    }
  },
  "cells": [
    {
      "cell_type": "markdown",
      "source": [
        "# Проект \"Анализ тональности\" для датасета twitter.csv"
      ],
      "metadata": {
        "id": "ioJ0c_SRDwp7"
      }
    },
    {
      "cell_type": "code",
      "source": [
        "import re, string\n",
        "import nltk\n",
        "from nltk.corpus import stopwords\n",
        "import numpy as np\n",
        "import spacy"
      ],
      "metadata": {
        "id": "7EdvqXlRLW1O"
      },
      "execution_count": 1,
      "outputs": []
    },
    {
      "cell_type": "markdown",
      "source": [
        "В данном проекте мы будем работать с датасетом твитов - twitter.csv"
      ],
      "metadata": {
        "id": "zPYb8VXjD0Nc"
      }
    },
    {
      "cell_type": "code",
      "execution_count": 9,
      "metadata": {
        "colab": {
          "base_uri": "https://localhost:8080/",
          "height": 204
        },
        "collapsed": true,
        "id": "rRrluXn2GiQq",
        "outputId": "b08e86bc-78d6-4cdb-aa66-fb187fed1747"
      },
      "outputs": [
        {
          "output_type": "execute_result",
          "data": {
            "text/plain": [
              "   2401  Borderlands  Positive  \\\n",
              "0  2401  Borderlands  Positive   \n",
              "1  2401  Borderlands  Positive   \n",
              "2  2401  Borderlands  Positive   \n",
              "3  2401  Borderlands  Positive   \n",
              "4  2401  Borderlands  Positive   \n",
              "\n",
              "  im getting on borderlands and i will murder you all ,  \n",
              "0  I am coming to the borders and I will kill you...     \n",
              "1  im getting on borderlands and i will kill you ...     \n",
              "2  im coming on borderlands and i will murder you...     \n",
              "3  im getting on borderlands 2 and i will murder ...     \n",
              "4  im getting into borderlands and i can murder y...     "
            ],
            "text/html": [
              "\n",
              "  <div id=\"df-ebb2204f-6f7b-4ffe-a457-e867b991043c\" class=\"colab-df-container\">\n",
              "    <div>\n",
              "<style scoped>\n",
              "    .dataframe tbody tr th:only-of-type {\n",
              "        vertical-align: middle;\n",
              "    }\n",
              "\n",
              "    .dataframe tbody tr th {\n",
              "        vertical-align: top;\n",
              "    }\n",
              "\n",
              "    .dataframe thead th {\n",
              "        text-align: right;\n",
              "    }\n",
              "</style>\n",
              "<table border=\"1\" class=\"dataframe\">\n",
              "  <thead>\n",
              "    <tr style=\"text-align: right;\">\n",
              "      <th></th>\n",
              "      <th>2401</th>\n",
              "      <th>Borderlands</th>\n",
              "      <th>Positive</th>\n",
              "      <th>im getting on borderlands and i will murder you all ,</th>\n",
              "    </tr>\n",
              "  </thead>\n",
              "  <tbody>\n",
              "    <tr>\n",
              "      <th>0</th>\n",
              "      <td>2401</td>\n",
              "      <td>Borderlands</td>\n",
              "      <td>Positive</td>\n",
              "      <td>I am coming to the borders and I will kill you...</td>\n",
              "    </tr>\n",
              "    <tr>\n",
              "      <th>1</th>\n",
              "      <td>2401</td>\n",
              "      <td>Borderlands</td>\n",
              "      <td>Positive</td>\n",
              "      <td>im getting on borderlands and i will kill you ...</td>\n",
              "    </tr>\n",
              "    <tr>\n",
              "      <th>2</th>\n",
              "      <td>2401</td>\n",
              "      <td>Borderlands</td>\n",
              "      <td>Positive</td>\n",
              "      <td>im coming on borderlands and i will murder you...</td>\n",
              "    </tr>\n",
              "    <tr>\n",
              "      <th>3</th>\n",
              "      <td>2401</td>\n",
              "      <td>Borderlands</td>\n",
              "      <td>Positive</td>\n",
              "      <td>im getting on borderlands 2 and i will murder ...</td>\n",
              "    </tr>\n",
              "    <tr>\n",
              "      <th>4</th>\n",
              "      <td>2401</td>\n",
              "      <td>Borderlands</td>\n",
              "      <td>Positive</td>\n",
              "      <td>im getting into borderlands and i can murder y...</td>\n",
              "    </tr>\n",
              "  </tbody>\n",
              "</table>\n",
              "</div>\n",
              "    <div class=\"colab-df-buttons\">\n",
              "\n",
              "  <div class=\"colab-df-container\">\n",
              "    <button class=\"colab-df-convert\" onclick=\"convertToInteractive('df-ebb2204f-6f7b-4ffe-a457-e867b991043c')\"\n",
              "            title=\"Convert this dataframe to an interactive table.\"\n",
              "            style=\"display:none;\">\n",
              "\n",
              "  <svg xmlns=\"http://www.w3.org/2000/svg\" height=\"24px\" viewBox=\"0 -960 960 960\">\n",
              "    <path d=\"M120-120v-720h720v720H120Zm60-500h600v-160H180v160Zm220 220h160v-160H400v160Zm0 220h160v-160H400v160ZM180-400h160v-160H180v160Zm440 0h160v-160H620v160ZM180-180h160v-160H180v160Zm440 0h160v-160H620v160Z\"/>\n",
              "  </svg>\n",
              "    </button>\n",
              "\n",
              "  <style>\n",
              "    .colab-df-container {\n",
              "      display:flex;\n",
              "      gap: 12px;\n",
              "    }\n",
              "\n",
              "    .colab-df-convert {\n",
              "      background-color: #E8F0FE;\n",
              "      border: none;\n",
              "      border-radius: 50%;\n",
              "      cursor: pointer;\n",
              "      display: none;\n",
              "      fill: #1967D2;\n",
              "      height: 32px;\n",
              "      padding: 0 0 0 0;\n",
              "      width: 32px;\n",
              "    }\n",
              "\n",
              "    .colab-df-convert:hover {\n",
              "      background-color: #E2EBFA;\n",
              "      box-shadow: 0px 1px 2px rgba(60, 64, 67, 0.3), 0px 1px 3px 1px rgba(60, 64, 67, 0.15);\n",
              "      fill: #174EA6;\n",
              "    }\n",
              "\n",
              "    .colab-df-buttons div {\n",
              "      margin-bottom: 4px;\n",
              "    }\n",
              "\n",
              "    [theme=dark] .colab-df-convert {\n",
              "      background-color: #3B4455;\n",
              "      fill: #D2E3FC;\n",
              "    }\n",
              "\n",
              "    [theme=dark] .colab-df-convert:hover {\n",
              "      background-color: #434B5C;\n",
              "      box-shadow: 0px 1px 3px 1px rgba(0, 0, 0, 0.15);\n",
              "      filter: drop-shadow(0px 1px 2px rgba(0, 0, 0, 0.3));\n",
              "      fill: #FFFFFF;\n",
              "    }\n",
              "  </style>\n",
              "\n",
              "    <script>\n",
              "      const buttonEl =\n",
              "        document.querySelector('#df-ebb2204f-6f7b-4ffe-a457-e867b991043c button.colab-df-convert');\n",
              "      buttonEl.style.display =\n",
              "        google.colab.kernel.accessAllowed ? 'block' : 'none';\n",
              "\n",
              "      async function convertToInteractive(key) {\n",
              "        const element = document.querySelector('#df-ebb2204f-6f7b-4ffe-a457-e867b991043c');\n",
              "        const dataTable =\n",
              "          await google.colab.kernel.invokeFunction('convertToInteractive',\n",
              "                                                    [key], {});\n",
              "        if (!dataTable) return;\n",
              "\n",
              "        const docLinkHtml = 'Like what you see? Visit the ' +\n",
              "          '<a target=\"_blank\" href=https://colab.research.google.com/notebooks/data_table.ipynb>data table notebook</a>'\n",
              "          + ' to learn more about interactive tables.';\n",
              "        element.innerHTML = '';\n",
              "        dataTable['output_type'] = 'display_data';\n",
              "        await google.colab.output.renderOutput(dataTable, element);\n",
              "        const docLink = document.createElement('div');\n",
              "        docLink.innerHTML = docLinkHtml;\n",
              "        element.appendChild(docLink);\n",
              "      }\n",
              "    </script>\n",
              "  </div>\n",
              "\n",
              "\n",
              "<div id=\"df-32c27250-dfb4-4b47-be53-32f96245fd72\">\n",
              "  <button class=\"colab-df-quickchart\" onclick=\"quickchart('df-32c27250-dfb4-4b47-be53-32f96245fd72')\"\n",
              "            title=\"Suggest charts\"\n",
              "            style=\"display:none;\">\n",
              "\n",
              "<svg xmlns=\"http://www.w3.org/2000/svg\" height=\"24px\"viewBox=\"0 0 24 24\"\n",
              "     width=\"24px\">\n",
              "    <g>\n",
              "        <path d=\"M19 3H5c-1.1 0-2 .9-2 2v14c0 1.1.9 2 2 2h14c1.1 0 2-.9 2-2V5c0-1.1-.9-2-2-2zM9 17H7v-7h2v7zm4 0h-2V7h2v10zm4 0h-2v-4h2v4z\"/>\n",
              "    </g>\n",
              "</svg>\n",
              "  </button>\n",
              "\n",
              "<style>\n",
              "  .colab-df-quickchart {\n",
              "      --bg-color: #E8F0FE;\n",
              "      --fill-color: #1967D2;\n",
              "      --hover-bg-color: #E2EBFA;\n",
              "      --hover-fill-color: #174EA6;\n",
              "      --disabled-fill-color: #AAA;\n",
              "      --disabled-bg-color: #DDD;\n",
              "  }\n",
              "\n",
              "  [theme=dark] .colab-df-quickchart {\n",
              "      --bg-color: #3B4455;\n",
              "      --fill-color: #D2E3FC;\n",
              "      --hover-bg-color: #434B5C;\n",
              "      --hover-fill-color: #FFFFFF;\n",
              "      --disabled-bg-color: #3B4455;\n",
              "      --disabled-fill-color: #666;\n",
              "  }\n",
              "\n",
              "  .colab-df-quickchart {\n",
              "    background-color: var(--bg-color);\n",
              "    border: none;\n",
              "    border-radius: 50%;\n",
              "    cursor: pointer;\n",
              "    display: none;\n",
              "    fill: var(--fill-color);\n",
              "    height: 32px;\n",
              "    padding: 0;\n",
              "    width: 32px;\n",
              "  }\n",
              "\n",
              "  .colab-df-quickchart:hover {\n",
              "    background-color: var(--hover-bg-color);\n",
              "    box-shadow: 0 1px 2px rgba(60, 64, 67, 0.3), 0 1px 3px 1px rgba(60, 64, 67, 0.15);\n",
              "    fill: var(--button-hover-fill-color);\n",
              "  }\n",
              "\n",
              "  .colab-df-quickchart-complete:disabled,\n",
              "  .colab-df-quickchart-complete:disabled:hover {\n",
              "    background-color: var(--disabled-bg-color);\n",
              "    fill: var(--disabled-fill-color);\n",
              "    box-shadow: none;\n",
              "  }\n",
              "\n",
              "  .colab-df-spinner {\n",
              "    border: 2px solid var(--fill-color);\n",
              "    border-color: transparent;\n",
              "    border-bottom-color: var(--fill-color);\n",
              "    animation:\n",
              "      spin 1s steps(1) infinite;\n",
              "  }\n",
              "\n",
              "  @keyframes spin {\n",
              "    0% {\n",
              "      border-color: transparent;\n",
              "      border-bottom-color: var(--fill-color);\n",
              "      border-left-color: var(--fill-color);\n",
              "    }\n",
              "    20% {\n",
              "      border-color: transparent;\n",
              "      border-left-color: var(--fill-color);\n",
              "      border-top-color: var(--fill-color);\n",
              "    }\n",
              "    30% {\n",
              "      border-color: transparent;\n",
              "      border-left-color: var(--fill-color);\n",
              "      border-top-color: var(--fill-color);\n",
              "      border-right-color: var(--fill-color);\n",
              "    }\n",
              "    40% {\n",
              "      border-color: transparent;\n",
              "      border-right-color: var(--fill-color);\n",
              "      border-top-color: var(--fill-color);\n",
              "    }\n",
              "    60% {\n",
              "      border-color: transparent;\n",
              "      border-right-color: var(--fill-color);\n",
              "    }\n",
              "    80% {\n",
              "      border-color: transparent;\n",
              "      border-right-color: var(--fill-color);\n",
              "      border-bottom-color: var(--fill-color);\n",
              "    }\n",
              "    90% {\n",
              "      border-color: transparent;\n",
              "      border-bottom-color: var(--fill-color);\n",
              "    }\n",
              "  }\n",
              "</style>\n",
              "\n",
              "  <script>\n",
              "    async function quickchart(key) {\n",
              "      const quickchartButtonEl =\n",
              "        document.querySelector('#' + key + ' button');\n",
              "      quickchartButtonEl.disabled = true;  // To prevent multiple clicks.\n",
              "      quickchartButtonEl.classList.add('colab-df-spinner');\n",
              "      try {\n",
              "        const charts = await google.colab.kernel.invokeFunction(\n",
              "            'suggestCharts', [key], {});\n",
              "      } catch (error) {\n",
              "        console.error('Error during call to suggestCharts:', error);\n",
              "      }\n",
              "      quickchartButtonEl.classList.remove('colab-df-spinner');\n",
              "      quickchartButtonEl.classList.add('colab-df-quickchart-complete');\n",
              "    }\n",
              "    (() => {\n",
              "      let quickchartButtonEl =\n",
              "        document.querySelector('#df-32c27250-dfb4-4b47-be53-32f96245fd72 button');\n",
              "      quickchartButtonEl.style.display =\n",
              "        google.colab.kernel.accessAllowed ? 'block' : 'none';\n",
              "    })();\n",
              "  </script>\n",
              "</div>\n",
              "    </div>\n",
              "  </div>\n"
            ],
            "application/vnd.google.colaboratory.intrinsic+json": {
              "type": "dataframe",
              "variable_name": "df",
              "summary": "{\n  \"name\": \"df\",\n  \"rows\": 74681,\n  \"fields\": [\n    {\n      \"column\": \"2401\",\n      \"properties\": {\n        \"dtype\": \"number\",\n        \"std\": 3740,\n        \"min\": 1,\n        \"max\": 13200,\n        \"num_unique_values\": 12447,\n        \"samples\": [\n          1616,\n          2660,\n          2335\n        ],\n        \"semantic_type\": \"\",\n        \"description\": \"\"\n      }\n    },\n    {\n      \"column\": \"Borderlands\",\n      \"properties\": {\n        \"dtype\": \"category\",\n        \"num_unique_values\": 32,\n        \"samples\": [\n          \"Cyberpunk2077\",\n          \"Microsoft\",\n          \"TomClancysRainbowSix\"\n        ],\n        \"semantic_type\": \"\",\n        \"description\": \"\"\n      }\n    },\n    {\n      \"column\": \"Positive\",\n      \"properties\": {\n        \"dtype\": \"category\",\n        \"num_unique_values\": 4,\n        \"samples\": [\n          \"Neutral\",\n          \"Irrelevant\",\n          \"Positive\"\n        ],\n        \"semantic_type\": \"\",\n        \"description\": \"\"\n      }\n    },\n    {\n      \"column\": \"im getting on borderlands and i will murder you all ,\",\n      \"properties\": {\n        \"dtype\": \"string\",\n        \"num_unique_values\": 69490,\n        \"samples\": [\n          \"so how does my stained glass open facebook account girl already have 200 likes!!!! and i sure am so!!??? oh thankful!??!?!\",\n          \"How not to get bored about every damn thing in life.\",\n          \"The Best Perfect Way to Protect All the Planet Samsung Galaxy Note10 + By buff. ly / The 2zkjIhU..\"\n        ],\n        \"semantic_type\": \"\",\n        \"description\": \"\"\n      }\n    }\n  ]\n}"
            }
          },
          "metadata": {},
          "execution_count": 9
        }
      ],
      "source": [
        "import pandas as pd\n",
        "df = pd.read_csv('twitter.csv', encoding='utf-8')\n",
        "df.head(5)"
      ]
    },
    {
      "cell_type": "markdown",
      "source": [
        "В данном датасете первая строка является названием столбцов, поэтому следует опустить её вниз и добавить название стобцов. Также лучше сразу заменить значения NULL пустыми строками, чтобы избежать дальнейших ошибок."
      ],
      "metadata": {
        "id": "Wh0omv9uHKnZ"
      }
    },
    {
      "cell_type": "code",
      "source": [
        "df.columns = df.iloc[0]\n",
        "df = df[1:]\n",
        "df.loc[-1] = df.columns\n",
        "df.index = df.index + 1\n",
        "df.sort_index()\n",
        "df.columns = ['id', 'entity', 'sentiment', 'text']\n",
        "df = df.reset_index(drop=True)\n",
        "df.index += 1\n",
        "pd.set_option('display.max_colwidth', None)\n",
        "df['text'] = df['text'].fillna('')\n",
        "df.head(5)"
      ],
      "metadata": {
        "colab": {
          "base_uri": "https://localhost:8080/",
          "height": 238
        },
        "id": "IVSWAOL_HSzj",
        "outputId": "2b25f506-0cca-48b2-d780-3dbf471afec0"
      },
      "execution_count": 10,
      "outputs": [
        {
          "output_type": "execute_result",
          "data": {
            "text/plain": [
              "     id       entity sentiment  \\\n",
              "1  2401  Borderlands  Positive   \n",
              "2  2401  Borderlands  Positive   \n",
              "3  2401  Borderlands  Positive   \n",
              "4  2401  Borderlands  Positive   \n",
              "5  2402  Borderlands  Positive   \n",
              "\n",
              "                                                                                                                                                                                                                                                                                             text  \n",
              "1                                                                                                                                                                                                                                              im getting on borderlands and i will kill you all,  \n",
              "2                                                                                                                                                                                                                                             im coming on borderlands and i will murder you all,  \n",
              "3                                                                                                                                                                                                                                       im getting on borderlands 2 and i will murder you me all,  \n",
              "4                                                                                                                                                                                                                                           im getting into borderlands and i can murder you all,  \n",
              "5  So I spent a few hours making something for fun. . . If you don't know I am a HUGE @Borderlands fan and Maya is one of my favorite characters. So I decided to make myself a wallpaper for my PC. . Here is the original image versus the creation I made :) Enjoy! pic.twitter.com/mLsI5wf9Jg  "
            ],
            "text/html": [
              "\n",
              "  <div id=\"df-ca43f59b-7690-4f18-8af1-84f12bacbcf4\" class=\"colab-df-container\">\n",
              "    <div>\n",
              "<style scoped>\n",
              "    .dataframe tbody tr th:only-of-type {\n",
              "        vertical-align: middle;\n",
              "    }\n",
              "\n",
              "    .dataframe tbody tr th {\n",
              "        vertical-align: top;\n",
              "    }\n",
              "\n",
              "    .dataframe thead th {\n",
              "        text-align: right;\n",
              "    }\n",
              "</style>\n",
              "<table border=\"1\" class=\"dataframe\">\n",
              "  <thead>\n",
              "    <tr style=\"text-align: right;\">\n",
              "      <th></th>\n",
              "      <th>id</th>\n",
              "      <th>entity</th>\n",
              "      <th>sentiment</th>\n",
              "      <th>text</th>\n",
              "    </tr>\n",
              "  </thead>\n",
              "  <tbody>\n",
              "    <tr>\n",
              "      <th>1</th>\n",
              "      <td>2401</td>\n",
              "      <td>Borderlands</td>\n",
              "      <td>Positive</td>\n",
              "      <td>im getting on borderlands and i will kill you all,</td>\n",
              "    </tr>\n",
              "    <tr>\n",
              "      <th>2</th>\n",
              "      <td>2401</td>\n",
              "      <td>Borderlands</td>\n",
              "      <td>Positive</td>\n",
              "      <td>im coming on borderlands and i will murder you all,</td>\n",
              "    </tr>\n",
              "    <tr>\n",
              "      <th>3</th>\n",
              "      <td>2401</td>\n",
              "      <td>Borderlands</td>\n",
              "      <td>Positive</td>\n",
              "      <td>im getting on borderlands 2 and i will murder you me all,</td>\n",
              "    </tr>\n",
              "    <tr>\n",
              "      <th>4</th>\n",
              "      <td>2401</td>\n",
              "      <td>Borderlands</td>\n",
              "      <td>Positive</td>\n",
              "      <td>im getting into borderlands and i can murder you all,</td>\n",
              "    </tr>\n",
              "    <tr>\n",
              "      <th>5</th>\n",
              "      <td>2402</td>\n",
              "      <td>Borderlands</td>\n",
              "      <td>Positive</td>\n",
              "      <td>So I spent a few hours making something for fun. . . If you don't know I am a HUGE @Borderlands fan and Maya is one of my favorite characters. So I decided to make myself a wallpaper for my PC. . Here is the original image versus the creation I made :) Enjoy! pic.twitter.com/mLsI5wf9Jg</td>\n",
              "    </tr>\n",
              "  </tbody>\n",
              "</table>\n",
              "</div>\n",
              "    <div class=\"colab-df-buttons\">\n",
              "\n",
              "  <div class=\"colab-df-container\">\n",
              "    <button class=\"colab-df-convert\" onclick=\"convertToInteractive('df-ca43f59b-7690-4f18-8af1-84f12bacbcf4')\"\n",
              "            title=\"Convert this dataframe to an interactive table.\"\n",
              "            style=\"display:none;\">\n",
              "\n",
              "  <svg xmlns=\"http://www.w3.org/2000/svg\" height=\"24px\" viewBox=\"0 -960 960 960\">\n",
              "    <path d=\"M120-120v-720h720v720H120Zm60-500h600v-160H180v160Zm220 220h160v-160H400v160Zm0 220h160v-160H400v160ZM180-400h160v-160H180v160Zm440 0h160v-160H620v160ZM180-180h160v-160H180v160Zm440 0h160v-160H620v160Z\"/>\n",
              "  </svg>\n",
              "    </button>\n",
              "\n",
              "  <style>\n",
              "    .colab-df-container {\n",
              "      display:flex;\n",
              "      gap: 12px;\n",
              "    }\n",
              "\n",
              "    .colab-df-convert {\n",
              "      background-color: #E8F0FE;\n",
              "      border: none;\n",
              "      border-radius: 50%;\n",
              "      cursor: pointer;\n",
              "      display: none;\n",
              "      fill: #1967D2;\n",
              "      height: 32px;\n",
              "      padding: 0 0 0 0;\n",
              "      width: 32px;\n",
              "    }\n",
              "\n",
              "    .colab-df-convert:hover {\n",
              "      background-color: #E2EBFA;\n",
              "      box-shadow: 0px 1px 2px rgba(60, 64, 67, 0.3), 0px 1px 3px 1px rgba(60, 64, 67, 0.15);\n",
              "      fill: #174EA6;\n",
              "    }\n",
              "\n",
              "    .colab-df-buttons div {\n",
              "      margin-bottom: 4px;\n",
              "    }\n",
              "\n",
              "    [theme=dark] .colab-df-convert {\n",
              "      background-color: #3B4455;\n",
              "      fill: #D2E3FC;\n",
              "    }\n",
              "\n",
              "    [theme=dark] .colab-df-convert:hover {\n",
              "      background-color: #434B5C;\n",
              "      box-shadow: 0px 1px 3px 1px rgba(0, 0, 0, 0.15);\n",
              "      filter: drop-shadow(0px 1px 2px rgba(0, 0, 0, 0.3));\n",
              "      fill: #FFFFFF;\n",
              "    }\n",
              "  </style>\n",
              "\n",
              "    <script>\n",
              "      const buttonEl =\n",
              "        document.querySelector('#df-ca43f59b-7690-4f18-8af1-84f12bacbcf4 button.colab-df-convert');\n",
              "      buttonEl.style.display =\n",
              "        google.colab.kernel.accessAllowed ? 'block' : 'none';\n",
              "\n",
              "      async function convertToInteractive(key) {\n",
              "        const element = document.querySelector('#df-ca43f59b-7690-4f18-8af1-84f12bacbcf4');\n",
              "        const dataTable =\n",
              "          await google.colab.kernel.invokeFunction('convertToInteractive',\n",
              "                                                    [key], {});\n",
              "        if (!dataTable) return;\n",
              "\n",
              "        const docLinkHtml = 'Like what you see? Visit the ' +\n",
              "          '<a target=\"_blank\" href=https://colab.research.google.com/notebooks/data_table.ipynb>data table notebook</a>'\n",
              "          + ' to learn more about interactive tables.';\n",
              "        element.innerHTML = '';\n",
              "        dataTable['output_type'] = 'display_data';\n",
              "        await google.colab.output.renderOutput(dataTable, element);\n",
              "        const docLink = document.createElement('div');\n",
              "        docLink.innerHTML = docLinkHtml;\n",
              "        element.appendChild(docLink);\n",
              "      }\n",
              "    </script>\n",
              "  </div>\n",
              "\n",
              "\n",
              "<div id=\"df-0d347ae5-4c45-48fd-ac80-94ac9d0e607f\">\n",
              "  <button class=\"colab-df-quickchart\" onclick=\"quickchart('df-0d347ae5-4c45-48fd-ac80-94ac9d0e607f')\"\n",
              "            title=\"Suggest charts\"\n",
              "            style=\"display:none;\">\n",
              "\n",
              "<svg xmlns=\"http://www.w3.org/2000/svg\" height=\"24px\"viewBox=\"0 0 24 24\"\n",
              "     width=\"24px\">\n",
              "    <g>\n",
              "        <path d=\"M19 3H5c-1.1 0-2 .9-2 2v14c0 1.1.9 2 2 2h14c1.1 0 2-.9 2-2V5c0-1.1-.9-2-2-2zM9 17H7v-7h2v7zm4 0h-2V7h2v10zm4 0h-2v-4h2v4z\"/>\n",
              "    </g>\n",
              "</svg>\n",
              "  </button>\n",
              "\n",
              "<style>\n",
              "  .colab-df-quickchart {\n",
              "      --bg-color: #E8F0FE;\n",
              "      --fill-color: #1967D2;\n",
              "      --hover-bg-color: #E2EBFA;\n",
              "      --hover-fill-color: #174EA6;\n",
              "      --disabled-fill-color: #AAA;\n",
              "      --disabled-bg-color: #DDD;\n",
              "  }\n",
              "\n",
              "  [theme=dark] .colab-df-quickchart {\n",
              "      --bg-color: #3B4455;\n",
              "      --fill-color: #D2E3FC;\n",
              "      --hover-bg-color: #434B5C;\n",
              "      --hover-fill-color: #FFFFFF;\n",
              "      --disabled-bg-color: #3B4455;\n",
              "      --disabled-fill-color: #666;\n",
              "  }\n",
              "\n",
              "  .colab-df-quickchart {\n",
              "    background-color: var(--bg-color);\n",
              "    border: none;\n",
              "    border-radius: 50%;\n",
              "    cursor: pointer;\n",
              "    display: none;\n",
              "    fill: var(--fill-color);\n",
              "    height: 32px;\n",
              "    padding: 0;\n",
              "    width: 32px;\n",
              "  }\n",
              "\n",
              "  .colab-df-quickchart:hover {\n",
              "    background-color: var(--hover-bg-color);\n",
              "    box-shadow: 0 1px 2px rgba(60, 64, 67, 0.3), 0 1px 3px 1px rgba(60, 64, 67, 0.15);\n",
              "    fill: var(--button-hover-fill-color);\n",
              "  }\n",
              "\n",
              "  .colab-df-quickchart-complete:disabled,\n",
              "  .colab-df-quickchart-complete:disabled:hover {\n",
              "    background-color: var(--disabled-bg-color);\n",
              "    fill: var(--disabled-fill-color);\n",
              "    box-shadow: none;\n",
              "  }\n",
              "\n",
              "  .colab-df-spinner {\n",
              "    border: 2px solid var(--fill-color);\n",
              "    border-color: transparent;\n",
              "    border-bottom-color: var(--fill-color);\n",
              "    animation:\n",
              "      spin 1s steps(1) infinite;\n",
              "  }\n",
              "\n",
              "  @keyframes spin {\n",
              "    0% {\n",
              "      border-color: transparent;\n",
              "      border-bottom-color: var(--fill-color);\n",
              "      border-left-color: var(--fill-color);\n",
              "    }\n",
              "    20% {\n",
              "      border-color: transparent;\n",
              "      border-left-color: var(--fill-color);\n",
              "      border-top-color: var(--fill-color);\n",
              "    }\n",
              "    30% {\n",
              "      border-color: transparent;\n",
              "      border-left-color: var(--fill-color);\n",
              "      border-top-color: var(--fill-color);\n",
              "      border-right-color: var(--fill-color);\n",
              "    }\n",
              "    40% {\n",
              "      border-color: transparent;\n",
              "      border-right-color: var(--fill-color);\n",
              "      border-top-color: var(--fill-color);\n",
              "    }\n",
              "    60% {\n",
              "      border-color: transparent;\n",
              "      border-right-color: var(--fill-color);\n",
              "    }\n",
              "    80% {\n",
              "      border-color: transparent;\n",
              "      border-right-color: var(--fill-color);\n",
              "      border-bottom-color: var(--fill-color);\n",
              "    }\n",
              "    90% {\n",
              "      border-color: transparent;\n",
              "      border-bottom-color: var(--fill-color);\n",
              "    }\n",
              "  }\n",
              "</style>\n",
              "\n",
              "  <script>\n",
              "    async function quickchart(key) {\n",
              "      const quickchartButtonEl =\n",
              "        document.querySelector('#' + key + ' button');\n",
              "      quickchartButtonEl.disabled = true;  // To prevent multiple clicks.\n",
              "      quickchartButtonEl.classList.add('colab-df-spinner');\n",
              "      try {\n",
              "        const charts = await google.colab.kernel.invokeFunction(\n",
              "            'suggestCharts', [key], {});\n",
              "      } catch (error) {\n",
              "        console.error('Error during call to suggestCharts:', error);\n",
              "      }\n",
              "      quickchartButtonEl.classList.remove('colab-df-spinner');\n",
              "      quickchartButtonEl.classList.add('colab-df-quickchart-complete');\n",
              "    }\n",
              "    (() => {\n",
              "      let quickchartButtonEl =\n",
              "        document.querySelector('#df-0d347ae5-4c45-48fd-ac80-94ac9d0e607f button');\n",
              "      quickchartButtonEl.style.display =\n",
              "        google.colab.kernel.accessAllowed ? 'block' : 'none';\n",
              "    })();\n",
              "  </script>\n",
              "</div>\n",
              "    </div>\n",
              "  </div>\n"
            ],
            "application/vnd.google.colaboratory.intrinsic+json": {
              "type": "dataframe",
              "variable_name": "df",
              "summary": "{\n  \"name\": \"df\",\n  \"rows\": 74681,\n  \"fields\": [\n    {\n      \"column\": \"id\",\n      \"properties\": {\n        \"dtype\": \"number\",\n        \"std\": 3740,\n        \"min\": 1,\n        \"max\": 13200,\n        \"num_unique_values\": 12447,\n        \"samples\": [\n          1616,\n          2660,\n          2335\n        ],\n        \"semantic_type\": \"\",\n        \"description\": \"\"\n      }\n    },\n    {\n      \"column\": \"entity\",\n      \"properties\": {\n        \"dtype\": \"category\",\n        \"num_unique_values\": 32,\n        \"samples\": [\n          \"Cyberpunk2077\",\n          \"Microsoft\",\n          \"TomClancysRainbowSix\"\n        ],\n        \"semantic_type\": \"\",\n        \"description\": \"\"\n      }\n    },\n    {\n      \"column\": \"sentiment\",\n      \"properties\": {\n        \"dtype\": \"category\",\n        \"num_unique_values\": 4,\n        \"samples\": [\n          \"Neutral\",\n          \"Irrelevant\",\n          \"Positive\"\n        ],\n        \"semantic_type\": \"\",\n        \"description\": \"\"\n      }\n    },\n    {\n      \"column\": \"text\",\n      \"properties\": {\n        \"dtype\": \"string\",\n        \"num_unique_values\": 69491,\n        \"samples\": [\n          \"Had a great Hearthstone stream today! Thanks too much Vince for the raid. Thanks @Kain0025 and @gamingpleasures for the bitties! And please Rusty for staying up and chatting!.. I hope to keep streaming regularly... Watch out for co-streams w/ @velonese002 coming soon!\",\n          \"How not to stutter about every fucking thing in life... wait, it's not Google\",\n          \"The Best Perfect Way to Protect All the Planet Samsung Galaxy Note10 + By buff. ly / The 2zkjIhU..\"\n        ],\n        \"semantic_type\": \"\",\n        \"description\": \"\"\n      }\n    }\n  ]\n}"
            }
          },
          "metadata": {},
          "execution_count": 10
        }
      ]
    },
    {
      "cell_type": "markdown",
      "source": [
        "# 1. Реализуем sentiment analysis с помощью rule-based метода"
      ],
      "metadata": {
        "id": "llfcGXhl572J"
      }
    },
    {
      "cell_type": "markdown",
      "source": [
        "Считаем словарь положительных и отрицательных слов английского языка и добавим их в один общий словарь"
      ],
      "metadata": {
        "id": "_QEU0EqiIP5I"
      }
    },
    {
      "cell_type": "code",
      "source": [
        "with open('positive-words.txt', \"r\", encoding='utf-8') as f:\n",
        "  pos = f.readlines()\n",
        "pos = [i.strip() for i in pos]"
      ],
      "metadata": {
        "id": "BbbhGt4eLTBO"
      },
      "execution_count": 11,
      "outputs": []
    },
    {
      "cell_type": "code",
      "source": [
        "with open('negative-words.txt', \"r\", encoding='utf-8', errors='ignore') as f1:\n",
        "  neg = f1.readlines()\n",
        "neg = [i.strip() for i in neg]"
      ],
      "metadata": {
        "id": "_Nw0L76MRKgf"
      },
      "execution_count": 12,
      "outputs": []
    },
    {
      "cell_type": "code",
      "source": [
        "sdict = {}\n",
        "for i in pos:\n",
        "  sdict[i] = 1\n",
        "for i in neg:\n",
        "  sdict[i] = -1"
      ],
      "metadata": {
        "id": "H-im6JEKXpJe"
      },
      "execution_count": 13,
      "outputs": []
    },
    {
      "cell_type": "code",
      "source": [
        "def clean_text(text):\n",
        "    if not isinstance(text, str): #если не строка, возвращаем пустую строку\n",
        "      return ''\n",
        "    text = re.sub(r'\\d+', '', text)  #удаляем цифры\n",
        "    text = text.lower()  #нижний регистр\n",
        "    text = re.sub(r'@\\w+', '', text)  #удаляем никнеймы\n",
        "    text = re.sub(r'\\[.*?\\]', ' ', text)  #удаляем текст в квадратных скобках\n",
        "    text = re.sub(r'https?://\\S+|www\\.\\S+', '', text)  #удаляем ссылки\n",
        "    text = re.sub(r'<.*?>+', ' ', text)  #удаляем HTML-теги\n",
        "    text = re.sub(f\"[{re.escape(string.punctuation)}]\", '', text)\n",
        "    #удаляем пунктуацию\n",
        "    text = re.sub(r'\\n', ' ', text)  #удаляем переносы строк\n",
        "    text = re.sub(r'\\s+', ' ', text).strip() #удаляем лишние пробелы\n",
        "    return text.strip()"
      ],
      "metadata": {
        "id": "B2KxOx_lTRak"
      },
      "execution_count": 14,
      "outputs": []
    },
    {
      "cell_type": "markdown",
      "source": [
        "Загружаем модель англйского языка для работы с токенизацией и лемматизацией. Также загружаем стоп-слова, которые мы будем удалять из текстов."
      ],
      "metadata": {
        "id": "eSiBDml4JIGN"
      }
    },
    {
      "cell_type": "code",
      "source": [
        "spacy_nlp = spacy.load(\"en_core_web_sm\")\n",
        "nltk.download('stopwords')\n",
        "sw = stopwords.words('english')\n",
        "nsw = [\"doesn't\", \"didn't\", \"not\", \"haven't\", \"hasn't\",\n",
        "                       \"isn't\", \"wasn't\", \"aren't\", \"won't\", \"mustn't\",\n",
        "                       \"shouldn't\", \"can't\", \"couldn't\", \"cannot\",\n",
        "                       \"needn't\", \"weren't\", \"don't\", \"no\", \"nor\", \"hadn't\",\n",
        "        \"wouldn't\"]\n",
        "sw = [x for x in sw if x not in nsw]"
      ],
      "metadata": {
        "id": "qYadTERzSVS6"
      },
      "execution_count": null,
      "outputs": []
    },
    {
      "cell_type": "code",
      "source": [
        "def lemmatize_spacy(text): # лемматизация текстов\n",
        "    doc = spacy_nlp(text)\n",
        "    return [token.lemma_ for token in doc]\n",
        "\n",
        "def remove_stopwords(tokens): # удаление стоп-слов\n",
        "    return [t for t in tokens if t not in sw]"
      ],
      "metadata": {
        "id": "02EgEzK_TWLO"
      },
      "execution_count": 15,
      "outputs": []
    },
    {
      "cell_type": "markdown",
      "source": [
        "Применяем вышеперечисленные функции к датасету и создаем три стобца. В последнем из них будет представлен лемматизированный и очищенный список слов, из которых составлен каждый твит - df['best']."
      ],
      "metadata": {
        "id": "fEHk2bEaSRKu"
      }
    },
    {
      "cell_type": "code",
      "source": [
        "df['clean_text'] = df['text'].apply(clean_text)\n",
        "df['lem'] = df['clean_text'].apply(lemmatize_spacy)\n",
        "df['best'] = df['lem'].apply(remove_stopwords)"
      ],
      "metadata": {
        "id": "mHmV_dZ8ULNS"
      },
      "execution_count": 16,
      "outputs": []
    },
    {
      "cell_type": "markdown",
      "source": [
        "Функция calculate-sentiment расчитывает коэффициент score, для каждого твита. Сначала проверяем на наличие интенсификаторов, которые на один увеличивают вес следующего слова по модулю. Далее проверяем на отрицание: если оно имеется, то вес следующего слова меняется на противоположный. Проверяем слово в словаре и добавляем его вес к общему score для твита, иначе добавляем 0."
      ],
      "metadata": {
        "id": "4wIgktwAUugf"
      }
    },
    {
      "cell_type": "code",
      "source": [
        "def calculate_sentiment(text_tokens, sentiment_dict):\n",
        "    score = 0\n",
        "    for i, token in enumerate(text_tokens):\n",
        "        sentiment = sentiment_dict.get(token, \"Neutral\")\n",
        "        if token in  [\"very\", \"extremely\", \"highly\", \"incredibly\", \"absolutely\",\n",
        "    \"totally\", \"completely\", \"utterly\", \"really\", \"seriously\"]:\n",
        "            if i + 1 < len(text_tokens):\n",
        "                next_token = text_tokens[i + 1]\n",
        "                next_sentiment = sentiment_dict.get(next_token, \"Neutral\")\n",
        "                if next_sentiment == 1:\n",
        "                    score += 2\n",
        "                elif next_sentiment == -1:\n",
        "                    score -= 2\n",
        "        elif token in [\"doesn't\", \"didn't\", \"not\", \"haven't\", \"hasn't\",\n",
        "                       \"isn't\", \"wasn't\", \"aren't\", \"won't\", \"mustn't\",\n",
        "                       \"shouldn't\", \"can't\", \"couldn't\", \"cannot\",\n",
        "                       \"needn't\", \"weren't\", \"don't\", \"no\", \"nor\", \"hadn't\",\n",
        "        \"wouldn't\"]:\n",
        "            if i + 1 < len(text_tokens):\n",
        "                next_token = text_tokens[i + 1]\n",
        "                next_sentiment = sentiment_dict.get(next_token, \"Neutral\")\n",
        "                if next_sentiment == 1:\n",
        "                    score -= 1\n",
        "                elif next_sentiment == -1:\n",
        "                    score += 1\n",
        "                continue\n",
        "        if sentiment == 1:\n",
        "            score += 1\n",
        "        elif sentiment == -1:\n",
        "            score -= 1\n",
        "    return score"
      ],
      "metadata": {
        "id": "sF_YtZEQWiES"
      },
      "execution_count": 17,
      "outputs": []
    },
    {
      "cell_type": "markdown",
      "source": [
        "Ставим соответствующую метку для твита, в зависимости от score (больше нуля, меньше нуля или равно нулю)"
      ],
      "metadata": {
        "id": "njmEoMeNWbcq"
      }
    },
    {
      "cell_type": "code",
      "source": [
        "def categorize_sentiment(score):\n",
        "    if score > 0:\n",
        "        return \"Positive\"\n",
        "    elif score < 0:\n",
        "        return \"Negative\"\n",
        "    else:\n",
        "        return \"Neutral\""
      ],
      "metadata": {
        "id": "pNSC9Rk3WYbH"
      },
      "execution_count": 18,
      "outputs": []
    },
    {
      "cell_type": "markdown",
      "source": [
        "Применяем вышеперечисленные функции к датасету и создаём новый столбец sentiment_category, куда запишем результат анализа тональности для каждого твита"
      ],
      "metadata": {
        "id": "OTIM9acyqRu7"
      }
    },
    {
      "cell_type": "code",
      "source": [
        "df['sentiment_score'] = df['best'].apply(lambda x: calculate_sentiment(x,\n",
        "                                                                        sdict))\n",
        "df['sentiment_category'] = df['sentiment_score'].apply(categorize_sentiment)\n",
        "df.head(10)"
      ],
      "metadata": {
        "colab": {
          "base_uri": "https://localhost:8080/",
          "height": 1000
        },
        "id": "qj9_HdEDYcs4",
        "outputId": "7a8fbcc2-f0c5-4b08-f851-c14eef37a522"
      },
      "execution_count": 19,
      "outputs": [
        {
          "output_type": "execute_result",
          "data": {
            "text/plain": [
              "      id       entity sentiment  \\\n",
              "1   2401  Borderlands  Positive   \n",
              "2   2401  Borderlands  Positive   \n",
              "3   2401  Borderlands  Positive   \n",
              "4   2401  Borderlands  Positive   \n",
              "5   2402  Borderlands  Positive   \n",
              "6   2402  Borderlands  Positive   \n",
              "7   2402  Borderlands  Positive   \n",
              "8   2402  Borderlands  Positive   \n",
              "9   2402  Borderlands  Positive   \n",
              "10  2402  Borderlands  Positive   \n",
              "\n",
              "                                                                                                                                                                                                                                                                                                     text  \\\n",
              "1                                                                                                                                                                                                                                                      im getting on borderlands and i will kill you all,   \n",
              "2                                                                                                                                                                                                                                                     im coming on borderlands and i will murder you all,   \n",
              "3                                                                                                                                                                                                                                               im getting on borderlands 2 and i will murder you me all,   \n",
              "4                                                                                                                                                                                                                                                   im getting into borderlands and i can murder you all,   \n",
              "5          So I spent a few hours making something for fun. . . If you don't know I am a HUGE @Borderlands fan and Maya is one of my favorite characters. So I decided to make myself a wallpaper for my PC. . Here is the original image versus the creation I made :) Enjoy! pic.twitter.com/mLsI5wf9Jg   \n",
              "6   So I spent a couple of hours doing something for fun... If you don't know that I'm a huge @ Borderlands fan and Maya is one of my favorite characters, I decided to make a wallpaper for my PC.. Here's the original picture compared to the creation I made:) Have fun! pic.twitter.com / mLsI5wf9Jg   \n",
              "7                                                                                                                                                             So I spent a few hours doing something for fun... If you don't know I'm a HUGE @ Borderlands fan and Maya is one of my favorite characters.   \n",
              "8             So I spent a few hours making something for fun. . . If you don't know I am a HUGE RhandlerR fan and Maya is one of my favorite characters. So I decided to make myself a wallpaper for my PC. . Here is the original image versus the creation I made :) Enjoy! pic.twitter.com/mLsI5wf9Jg   \n",
              "9        2010 So I spent a few hours making something for fun. . . If you don't know I am a HUGE RhandlerR fan and Maya is one of my favorite characters. So I decided to make myself a wallpaper for my PC. . Here is the original image versus the creation I made :) Enjoy! pic.twitter.com/mLsI5wf9Jg   \n",
              "10                                                                                                                                                                                                                                                                                                    was   \n",
              "\n",
              "                                                                                                                                                                                                                                                                           clean_text  \\\n",
              "1                                                                                                                                                                                                                                   im getting on borderlands and i will kill you all   \n",
              "2                                                                                                                                                                                                                                  im coming on borderlands and i will murder you all   \n",
              "3                                                                                                                                                                                                                              im getting on borderlands and i will murder you me all   \n",
              "4                                                                                                                                                                                                                                im getting into borderlands and i can murder you all   \n",
              "5                      so i spent a few hours making something for fun if you dont know i am a huge fan and maya is one of my favorite characters so i decided to make myself a wallpaper for my pc here is the original image versus the creation i made enjoy pictwittercommlsiwfjg   \n",
              "6   so i spent a couple of hours doing something for fun if you dont know that im a huge borderlands fan and maya is one of my favorite characters i decided to make a wallpaper for my pc heres the original picture compared to the creation i made have fun pictwittercom mlsiwfjg   \n",
              "7                                                                                                                                                 so i spent a few hours doing something for fun if you dont know im a huge borderlands fan and maya is one of my favorite characters   \n",
              "8            so i spent a few hours making something for fun if you dont know i am a huge rhandlerr fan and maya is one of my favorite characters so i decided to make myself a wallpaper for my pc here is the original image versus the creation i made enjoy pictwittercommlsiwfjg   \n",
              "9            so i spent a few hours making something for fun if you dont know i am a huge rhandlerr fan and maya is one of my favorite characters so i decided to make myself a wallpaper for my pc here is the original image versus the creation i made enjoy pictwittercommlsiwfjg   \n",
              "10                                                                                                                                                                                                                                                                                was   \n",
              "\n",
              "                                                                                                                                                                                                                                                                                                                                   lem  \\\n",
              "1                                                                                                                                                                                                                                                                            [I, m, get, on, borderland, and, I, will, kill, you, all]   \n",
              "2                                                                                                                                                                                                                                                                         [I, m, come, on, borderland, and, I, will, murder, you, all]   \n",
              "3                                                                                                                                                                                                                                                                       [I, m, get, on, borderland, and, I, will, murder, you, I, all]   \n",
              "4                                                                                                                                                                                                                                                                         [I, m, get, into, borderland, and, I, can, murder, you, all]   \n",
              "5                      [so, I, spend, a, few, hour, make, something, for, fun, if, you, do, not, know, I, be, a, huge, fan, and, maya, be, one, of, my, favorite, character, so, I, decide, to, make, myself, a, wallpaper, for, my, pc, here, be, the, original, image, versus, the, creation, I, make, enjoy, pictwittercommlsiwfjg]   \n",
              "6   [so, I, spend, a, couple, of, hour, do, something, for, fun, if, you, do, not, know, that, I, m, a, huge, borderland, fan, and, maya, be, one, of, my, favorite, character, I, decide, to, make, a, wallpaper, for, my, pc, here, the, original, picture, compare, to, the, creation, I, make, have, fun, pictwittercom, mlsiwfjg]   \n",
              "7                                                                                                                                                                       [so, I, spend, a, few, hour, do, something, for, fun, if, you, do, not, know, I, m, a, huge, borderland, fan, and, maya, be, one, of, my, favorite, character]   \n",
              "8           [so, I, spend, a, few, hour, make, something, for, fun, if, you, do, not, know, I, be, a, huge, rhandlerr, fan, and, maya, be, one, of, my, favorite, character, so, I, decide, to, make, myself, a, wallpaper, for, my, pc, here, be, the, original, image, versus, the, creation, I, make, enjoy, pictwittercommlsiwfjg]   \n",
              "9           [so, I, spend, a, few, hour, make, something, for, fun, if, you, do, not, know, I, be, a, huge, rhandlerr, fan, and, maya, be, one, of, my, favorite, character, so, I, decide, to, make, myself, a, wallpaper, for, my, pc, here, be, the, original, image, versus, the, creation, I, make, enjoy, pictwittercommlsiwfjg]   \n",
              "10                                                                                                                                                                                                                                                                                                                                [be]   \n",
              "\n",
              "                                                                                                                                                                                                                          best  \\\n",
              "1                                                                                                                                                                                                [I, get, borderland, I, kill]   \n",
              "2                                                                                                                                                                                             [I, come, borderland, I, murder]   \n",
              "3                                                                                                                                                                                           [I, get, borderland, I, murder, I]   \n",
              "4                                                                                                                                                                                              [I, get, borderland, I, murder]   \n",
              "5                    [I, spend, hour, make, something, fun, not, know, I, huge, fan, maya, one, favorite, character, I, decide, make, wallpaper, pc, original, image, versus, creation, I, make, enjoy, pictwittercommlsiwfjg]   \n",
              "6   [I, spend, couple, hour, something, fun, not, know, I, huge, borderland, fan, maya, one, favorite, character, I, decide, make, wallpaper, pc, original, picture, compare, creation, I, make, fun, pictwittercom, mlsiwfjg]   \n",
              "7                                                                                                                        [I, spend, hour, something, fun, not, know, I, huge, borderland, fan, maya, one, favorite, character]   \n",
              "8         [I, spend, hour, make, something, fun, not, know, I, huge, rhandlerr, fan, maya, one, favorite, character, I, decide, make, wallpaper, pc, original, image, versus, creation, I, make, enjoy, pictwittercommlsiwfjg]   \n",
              "9         [I, spend, hour, make, something, fun, not, know, I, huge, rhandlerr, fan, maya, one, favorite, character, I, decide, make, wallpaper, pc, original, image, versus, creation, I, make, enjoy, pictwittercommlsiwfjg]   \n",
              "10                                                                                                                                                                                                                          []   \n",
              "\n",
              "    sentiment_score sentiment_category  \n",
              "1                -1           Negative  \n",
              "2                -1           Negative  \n",
              "3                -1           Negative  \n",
              "4                -1           Negative  \n",
              "5                 3           Positive  \n",
              "6                 3           Positive  \n",
              "7                 2           Positive  \n",
              "8                 3           Positive  \n",
              "9                 3           Positive  \n",
              "10                0            Neutral  "
            ],
            "text/html": [
              "\n",
              "  <div id=\"df-49334346-d3d2-4db5-9fe7-c5684b3e5145\" class=\"colab-df-container\">\n",
              "    <div>\n",
              "<style scoped>\n",
              "    .dataframe tbody tr th:only-of-type {\n",
              "        vertical-align: middle;\n",
              "    }\n",
              "\n",
              "    .dataframe tbody tr th {\n",
              "        vertical-align: top;\n",
              "    }\n",
              "\n",
              "    .dataframe thead th {\n",
              "        text-align: right;\n",
              "    }\n",
              "</style>\n",
              "<table border=\"1\" class=\"dataframe\">\n",
              "  <thead>\n",
              "    <tr style=\"text-align: right;\">\n",
              "      <th></th>\n",
              "      <th>id</th>\n",
              "      <th>entity</th>\n",
              "      <th>sentiment</th>\n",
              "      <th>text</th>\n",
              "      <th>clean_text</th>\n",
              "      <th>lem</th>\n",
              "      <th>best</th>\n",
              "      <th>sentiment_score</th>\n",
              "      <th>sentiment_category</th>\n",
              "    </tr>\n",
              "  </thead>\n",
              "  <tbody>\n",
              "    <tr>\n",
              "      <th>1</th>\n",
              "      <td>2401</td>\n",
              "      <td>Borderlands</td>\n",
              "      <td>Positive</td>\n",
              "      <td>im getting on borderlands and i will kill you all,</td>\n",
              "      <td>im getting on borderlands and i will kill you all</td>\n",
              "      <td>[I, m, get, on, borderland, and, I, will, kill, you, all]</td>\n",
              "      <td>[I, get, borderland, I, kill]</td>\n",
              "      <td>-1</td>\n",
              "      <td>Negative</td>\n",
              "    </tr>\n",
              "    <tr>\n",
              "      <th>2</th>\n",
              "      <td>2401</td>\n",
              "      <td>Borderlands</td>\n",
              "      <td>Positive</td>\n",
              "      <td>im coming on borderlands and i will murder you all,</td>\n",
              "      <td>im coming on borderlands and i will murder you all</td>\n",
              "      <td>[I, m, come, on, borderland, and, I, will, murder, you, all]</td>\n",
              "      <td>[I, come, borderland, I, murder]</td>\n",
              "      <td>-1</td>\n",
              "      <td>Negative</td>\n",
              "    </tr>\n",
              "    <tr>\n",
              "      <th>3</th>\n",
              "      <td>2401</td>\n",
              "      <td>Borderlands</td>\n",
              "      <td>Positive</td>\n",
              "      <td>im getting on borderlands 2 and i will murder you me all,</td>\n",
              "      <td>im getting on borderlands and i will murder you me all</td>\n",
              "      <td>[I, m, get, on, borderland, and, I, will, murder, you, I, all]</td>\n",
              "      <td>[I, get, borderland, I, murder, I]</td>\n",
              "      <td>-1</td>\n",
              "      <td>Negative</td>\n",
              "    </tr>\n",
              "    <tr>\n",
              "      <th>4</th>\n",
              "      <td>2401</td>\n",
              "      <td>Borderlands</td>\n",
              "      <td>Positive</td>\n",
              "      <td>im getting into borderlands and i can murder you all,</td>\n",
              "      <td>im getting into borderlands and i can murder you all</td>\n",
              "      <td>[I, m, get, into, borderland, and, I, can, murder, you, all]</td>\n",
              "      <td>[I, get, borderland, I, murder]</td>\n",
              "      <td>-1</td>\n",
              "      <td>Negative</td>\n",
              "    </tr>\n",
              "    <tr>\n",
              "      <th>5</th>\n",
              "      <td>2402</td>\n",
              "      <td>Borderlands</td>\n",
              "      <td>Positive</td>\n",
              "      <td>So I spent a few hours making something for fun. . . If you don't know I am a HUGE @Borderlands fan and Maya is one of my favorite characters. So I decided to make myself a wallpaper for my PC. . Here is the original image versus the creation I made :) Enjoy! pic.twitter.com/mLsI5wf9Jg</td>\n",
              "      <td>so i spent a few hours making something for fun if you dont know i am a huge fan and maya is one of my favorite characters so i decided to make myself a wallpaper for my pc here is the original image versus the creation i made enjoy pictwittercommlsiwfjg</td>\n",
              "      <td>[so, I, spend, a, few, hour, make, something, for, fun, if, you, do, not, know, I, be, a, huge, fan, and, maya, be, one, of, my, favorite, character, so, I, decide, to, make, myself, a, wallpaper, for, my, pc, here, be, the, original, image, versus, the, creation, I, make, enjoy, pictwittercommlsiwfjg]</td>\n",
              "      <td>[I, spend, hour, make, something, fun, not, know, I, huge, fan, maya, one, favorite, character, I, decide, make, wallpaper, pc, original, image, versus, creation, I, make, enjoy, pictwittercommlsiwfjg]</td>\n",
              "      <td>3</td>\n",
              "      <td>Positive</td>\n",
              "    </tr>\n",
              "    <tr>\n",
              "      <th>6</th>\n",
              "      <td>2402</td>\n",
              "      <td>Borderlands</td>\n",
              "      <td>Positive</td>\n",
              "      <td>So I spent a couple of hours doing something for fun... If you don't know that I'm a huge @ Borderlands fan and Maya is one of my favorite characters, I decided to make a wallpaper for my PC.. Here's the original picture compared to the creation I made:) Have fun! pic.twitter.com / mLsI5wf9Jg</td>\n",
              "      <td>so i spent a couple of hours doing something for fun if you dont know that im a huge borderlands fan and maya is one of my favorite characters i decided to make a wallpaper for my pc heres the original picture compared to the creation i made have fun pictwittercom mlsiwfjg</td>\n",
              "      <td>[so, I, spend, a, couple, of, hour, do, something, for, fun, if, you, do, not, know, that, I, m, a, huge, borderland, fan, and, maya, be, one, of, my, favorite, character, I, decide, to, make, a, wallpaper, for, my, pc, here, the, original, picture, compare, to, the, creation, I, make, have, fun, pictwittercom, mlsiwfjg]</td>\n",
              "      <td>[I, spend, couple, hour, something, fun, not, know, I, huge, borderland, fan, maya, one, favorite, character, I, decide, make, wallpaper, pc, original, picture, compare, creation, I, make, fun, pictwittercom, mlsiwfjg]</td>\n",
              "      <td>3</td>\n",
              "      <td>Positive</td>\n",
              "    </tr>\n",
              "    <tr>\n",
              "      <th>7</th>\n",
              "      <td>2402</td>\n",
              "      <td>Borderlands</td>\n",
              "      <td>Positive</td>\n",
              "      <td>So I spent a few hours doing something for fun... If you don't know I'm a HUGE @ Borderlands fan and Maya is one of my favorite characters.</td>\n",
              "      <td>so i spent a few hours doing something for fun if you dont know im a huge borderlands fan and maya is one of my favorite characters</td>\n",
              "      <td>[so, I, spend, a, few, hour, do, something, for, fun, if, you, do, not, know, I, m, a, huge, borderland, fan, and, maya, be, one, of, my, favorite, character]</td>\n",
              "      <td>[I, spend, hour, something, fun, not, know, I, huge, borderland, fan, maya, one, favorite, character]</td>\n",
              "      <td>2</td>\n",
              "      <td>Positive</td>\n",
              "    </tr>\n",
              "    <tr>\n",
              "      <th>8</th>\n",
              "      <td>2402</td>\n",
              "      <td>Borderlands</td>\n",
              "      <td>Positive</td>\n",
              "      <td>So I spent a few hours making something for fun. . . If you don't know I am a HUGE RhandlerR fan and Maya is one of my favorite characters. So I decided to make myself a wallpaper for my PC. . Here is the original image versus the creation I made :) Enjoy! pic.twitter.com/mLsI5wf9Jg</td>\n",
              "      <td>so i spent a few hours making something for fun if you dont know i am a huge rhandlerr fan and maya is one of my favorite characters so i decided to make myself a wallpaper for my pc here is the original image versus the creation i made enjoy pictwittercommlsiwfjg</td>\n",
              "      <td>[so, I, spend, a, few, hour, make, something, for, fun, if, you, do, not, know, I, be, a, huge, rhandlerr, fan, and, maya, be, one, of, my, favorite, character, so, I, decide, to, make, myself, a, wallpaper, for, my, pc, here, be, the, original, image, versus, the, creation, I, make, enjoy, pictwittercommlsiwfjg]</td>\n",
              "      <td>[I, spend, hour, make, something, fun, not, know, I, huge, rhandlerr, fan, maya, one, favorite, character, I, decide, make, wallpaper, pc, original, image, versus, creation, I, make, enjoy, pictwittercommlsiwfjg]</td>\n",
              "      <td>3</td>\n",
              "      <td>Positive</td>\n",
              "    </tr>\n",
              "    <tr>\n",
              "      <th>9</th>\n",
              "      <td>2402</td>\n",
              "      <td>Borderlands</td>\n",
              "      <td>Positive</td>\n",
              "      <td>2010 So I spent a few hours making something for fun. . . If you don't know I am a HUGE RhandlerR fan and Maya is one of my favorite characters. So I decided to make myself a wallpaper for my PC. . Here is the original image versus the creation I made :) Enjoy! pic.twitter.com/mLsI5wf9Jg</td>\n",
              "      <td>so i spent a few hours making something for fun if you dont know i am a huge rhandlerr fan and maya is one of my favorite characters so i decided to make myself a wallpaper for my pc here is the original image versus the creation i made enjoy pictwittercommlsiwfjg</td>\n",
              "      <td>[so, I, spend, a, few, hour, make, something, for, fun, if, you, do, not, know, I, be, a, huge, rhandlerr, fan, and, maya, be, one, of, my, favorite, character, so, I, decide, to, make, myself, a, wallpaper, for, my, pc, here, be, the, original, image, versus, the, creation, I, make, enjoy, pictwittercommlsiwfjg]</td>\n",
              "      <td>[I, spend, hour, make, something, fun, not, know, I, huge, rhandlerr, fan, maya, one, favorite, character, I, decide, make, wallpaper, pc, original, image, versus, creation, I, make, enjoy, pictwittercommlsiwfjg]</td>\n",
              "      <td>3</td>\n",
              "      <td>Positive</td>\n",
              "    </tr>\n",
              "    <tr>\n",
              "      <th>10</th>\n",
              "      <td>2402</td>\n",
              "      <td>Borderlands</td>\n",
              "      <td>Positive</td>\n",
              "      <td>was</td>\n",
              "      <td>was</td>\n",
              "      <td>[be]</td>\n",
              "      <td>[]</td>\n",
              "      <td>0</td>\n",
              "      <td>Neutral</td>\n",
              "    </tr>\n",
              "  </tbody>\n",
              "</table>\n",
              "</div>\n",
              "    <div class=\"colab-df-buttons\">\n",
              "\n",
              "  <div class=\"colab-df-container\">\n",
              "    <button class=\"colab-df-convert\" onclick=\"convertToInteractive('df-49334346-d3d2-4db5-9fe7-c5684b3e5145')\"\n",
              "            title=\"Convert this dataframe to an interactive table.\"\n",
              "            style=\"display:none;\">\n",
              "\n",
              "  <svg xmlns=\"http://www.w3.org/2000/svg\" height=\"24px\" viewBox=\"0 -960 960 960\">\n",
              "    <path d=\"M120-120v-720h720v720H120Zm60-500h600v-160H180v160Zm220 220h160v-160H400v160Zm0 220h160v-160H400v160ZM180-400h160v-160H180v160Zm440 0h160v-160H620v160ZM180-180h160v-160H180v160Zm440 0h160v-160H620v160Z\"/>\n",
              "  </svg>\n",
              "    </button>\n",
              "\n",
              "  <style>\n",
              "    .colab-df-container {\n",
              "      display:flex;\n",
              "      gap: 12px;\n",
              "    }\n",
              "\n",
              "    .colab-df-convert {\n",
              "      background-color: #E8F0FE;\n",
              "      border: none;\n",
              "      border-radius: 50%;\n",
              "      cursor: pointer;\n",
              "      display: none;\n",
              "      fill: #1967D2;\n",
              "      height: 32px;\n",
              "      padding: 0 0 0 0;\n",
              "      width: 32px;\n",
              "    }\n",
              "\n",
              "    .colab-df-convert:hover {\n",
              "      background-color: #E2EBFA;\n",
              "      box-shadow: 0px 1px 2px rgba(60, 64, 67, 0.3), 0px 1px 3px 1px rgba(60, 64, 67, 0.15);\n",
              "      fill: #174EA6;\n",
              "    }\n",
              "\n",
              "    .colab-df-buttons div {\n",
              "      margin-bottom: 4px;\n",
              "    }\n",
              "\n",
              "    [theme=dark] .colab-df-convert {\n",
              "      background-color: #3B4455;\n",
              "      fill: #D2E3FC;\n",
              "    }\n",
              "\n",
              "    [theme=dark] .colab-df-convert:hover {\n",
              "      background-color: #434B5C;\n",
              "      box-shadow: 0px 1px 3px 1px rgba(0, 0, 0, 0.15);\n",
              "      filter: drop-shadow(0px 1px 2px rgba(0, 0, 0, 0.3));\n",
              "      fill: #FFFFFF;\n",
              "    }\n",
              "  </style>\n",
              "\n",
              "    <script>\n",
              "      const buttonEl =\n",
              "        document.querySelector('#df-49334346-d3d2-4db5-9fe7-c5684b3e5145 button.colab-df-convert');\n",
              "      buttonEl.style.display =\n",
              "        google.colab.kernel.accessAllowed ? 'block' : 'none';\n",
              "\n",
              "      async function convertToInteractive(key) {\n",
              "        const element = document.querySelector('#df-49334346-d3d2-4db5-9fe7-c5684b3e5145');\n",
              "        const dataTable =\n",
              "          await google.colab.kernel.invokeFunction('convertToInteractive',\n",
              "                                                    [key], {});\n",
              "        if (!dataTable) return;\n",
              "\n",
              "        const docLinkHtml = 'Like what you see? Visit the ' +\n",
              "          '<a target=\"_blank\" href=https://colab.research.google.com/notebooks/data_table.ipynb>data table notebook</a>'\n",
              "          + ' to learn more about interactive tables.';\n",
              "        element.innerHTML = '';\n",
              "        dataTable['output_type'] = 'display_data';\n",
              "        await google.colab.output.renderOutput(dataTable, element);\n",
              "        const docLink = document.createElement('div');\n",
              "        docLink.innerHTML = docLinkHtml;\n",
              "        element.appendChild(docLink);\n",
              "      }\n",
              "    </script>\n",
              "  </div>\n",
              "\n",
              "\n",
              "<div id=\"df-fa4d4d88-b7a9-479a-ad16-de042e10074a\">\n",
              "  <button class=\"colab-df-quickchart\" onclick=\"quickchart('df-fa4d4d88-b7a9-479a-ad16-de042e10074a')\"\n",
              "            title=\"Suggest charts\"\n",
              "            style=\"display:none;\">\n",
              "\n",
              "<svg xmlns=\"http://www.w3.org/2000/svg\" height=\"24px\"viewBox=\"0 0 24 24\"\n",
              "     width=\"24px\">\n",
              "    <g>\n",
              "        <path d=\"M19 3H5c-1.1 0-2 .9-2 2v14c0 1.1.9 2 2 2h14c1.1 0 2-.9 2-2V5c0-1.1-.9-2-2-2zM9 17H7v-7h2v7zm4 0h-2V7h2v10zm4 0h-2v-4h2v4z\"/>\n",
              "    </g>\n",
              "</svg>\n",
              "  </button>\n",
              "\n",
              "<style>\n",
              "  .colab-df-quickchart {\n",
              "      --bg-color: #E8F0FE;\n",
              "      --fill-color: #1967D2;\n",
              "      --hover-bg-color: #E2EBFA;\n",
              "      --hover-fill-color: #174EA6;\n",
              "      --disabled-fill-color: #AAA;\n",
              "      --disabled-bg-color: #DDD;\n",
              "  }\n",
              "\n",
              "  [theme=dark] .colab-df-quickchart {\n",
              "      --bg-color: #3B4455;\n",
              "      --fill-color: #D2E3FC;\n",
              "      --hover-bg-color: #434B5C;\n",
              "      --hover-fill-color: #FFFFFF;\n",
              "      --disabled-bg-color: #3B4455;\n",
              "      --disabled-fill-color: #666;\n",
              "  }\n",
              "\n",
              "  .colab-df-quickchart {\n",
              "    background-color: var(--bg-color);\n",
              "    border: none;\n",
              "    border-radius: 50%;\n",
              "    cursor: pointer;\n",
              "    display: none;\n",
              "    fill: var(--fill-color);\n",
              "    height: 32px;\n",
              "    padding: 0;\n",
              "    width: 32px;\n",
              "  }\n",
              "\n",
              "  .colab-df-quickchart:hover {\n",
              "    background-color: var(--hover-bg-color);\n",
              "    box-shadow: 0 1px 2px rgba(60, 64, 67, 0.3), 0 1px 3px 1px rgba(60, 64, 67, 0.15);\n",
              "    fill: var(--button-hover-fill-color);\n",
              "  }\n",
              "\n",
              "  .colab-df-quickchart-complete:disabled,\n",
              "  .colab-df-quickchart-complete:disabled:hover {\n",
              "    background-color: var(--disabled-bg-color);\n",
              "    fill: var(--disabled-fill-color);\n",
              "    box-shadow: none;\n",
              "  }\n",
              "\n",
              "  .colab-df-spinner {\n",
              "    border: 2px solid var(--fill-color);\n",
              "    border-color: transparent;\n",
              "    border-bottom-color: var(--fill-color);\n",
              "    animation:\n",
              "      spin 1s steps(1) infinite;\n",
              "  }\n",
              "\n",
              "  @keyframes spin {\n",
              "    0% {\n",
              "      border-color: transparent;\n",
              "      border-bottom-color: var(--fill-color);\n",
              "      border-left-color: var(--fill-color);\n",
              "    }\n",
              "    20% {\n",
              "      border-color: transparent;\n",
              "      border-left-color: var(--fill-color);\n",
              "      border-top-color: var(--fill-color);\n",
              "    }\n",
              "    30% {\n",
              "      border-color: transparent;\n",
              "      border-left-color: var(--fill-color);\n",
              "      border-top-color: var(--fill-color);\n",
              "      border-right-color: var(--fill-color);\n",
              "    }\n",
              "    40% {\n",
              "      border-color: transparent;\n",
              "      border-right-color: var(--fill-color);\n",
              "      border-top-color: var(--fill-color);\n",
              "    }\n",
              "    60% {\n",
              "      border-color: transparent;\n",
              "      border-right-color: var(--fill-color);\n",
              "    }\n",
              "    80% {\n",
              "      border-color: transparent;\n",
              "      border-right-color: var(--fill-color);\n",
              "      border-bottom-color: var(--fill-color);\n",
              "    }\n",
              "    90% {\n",
              "      border-color: transparent;\n",
              "      border-bottom-color: var(--fill-color);\n",
              "    }\n",
              "  }\n",
              "</style>\n",
              "\n",
              "  <script>\n",
              "    async function quickchart(key) {\n",
              "      const quickchartButtonEl =\n",
              "        document.querySelector('#' + key + ' button');\n",
              "      quickchartButtonEl.disabled = true;  // To prevent multiple clicks.\n",
              "      quickchartButtonEl.classList.add('colab-df-spinner');\n",
              "      try {\n",
              "        const charts = await google.colab.kernel.invokeFunction(\n",
              "            'suggestCharts', [key], {});\n",
              "      } catch (error) {\n",
              "        console.error('Error during call to suggestCharts:', error);\n",
              "      }\n",
              "      quickchartButtonEl.classList.remove('colab-df-spinner');\n",
              "      quickchartButtonEl.classList.add('colab-df-quickchart-complete');\n",
              "    }\n",
              "    (() => {\n",
              "      let quickchartButtonEl =\n",
              "        document.querySelector('#df-fa4d4d88-b7a9-479a-ad16-de042e10074a button');\n",
              "      quickchartButtonEl.style.display =\n",
              "        google.colab.kernel.accessAllowed ? 'block' : 'none';\n",
              "    })();\n",
              "  </script>\n",
              "</div>\n",
              "    </div>\n",
              "  </div>\n"
            ],
            "application/vnd.google.colaboratory.intrinsic+json": {
              "type": "dataframe",
              "variable_name": "df",
              "summary": "{\n  \"name\": \"df\",\n  \"rows\": 74681,\n  \"fields\": [\n    {\n      \"column\": \"id\",\n      \"properties\": {\n        \"dtype\": \"number\",\n        \"std\": 3740,\n        \"min\": 1,\n        \"max\": 13200,\n        \"num_unique_values\": 12447,\n        \"samples\": [\n          1616,\n          2660,\n          2335\n        ],\n        \"semantic_type\": \"\",\n        \"description\": \"\"\n      }\n    },\n    {\n      \"column\": \"entity\",\n      \"properties\": {\n        \"dtype\": \"category\",\n        \"num_unique_values\": 32,\n        \"samples\": [\n          \"Cyberpunk2077\",\n          \"Microsoft\",\n          \"TomClancysRainbowSix\"\n        ],\n        \"semantic_type\": \"\",\n        \"description\": \"\"\n      }\n    },\n    {\n      \"column\": \"sentiment\",\n      \"properties\": {\n        \"dtype\": \"category\",\n        \"num_unique_values\": 4,\n        \"samples\": [\n          \"Neutral\",\n          \"Irrelevant\",\n          \"Positive\"\n        ],\n        \"semantic_type\": \"\",\n        \"description\": \"\"\n      }\n    },\n    {\n      \"column\": \"text\",\n      \"properties\": {\n        \"dtype\": \"string\",\n        \"num_unique_values\": 69491,\n        \"samples\": [\n          \"Had a great Hearthstone stream today! Thanks too much Vince for the raid. Thanks @Kain0025 and @gamingpleasures for the bitties! And please Rusty for staying up and chatting!.. I hope to keep streaming regularly... Watch out for co-streams w/ @velonese002 coming soon!\",\n          \"How not to stutter about every fucking thing in life... wait, it's not Google\",\n          \"The Best Perfect Way to Protect All the Planet Samsung Galaxy Note10 + By buff. ly / The 2zkjIhU..\"\n        ],\n        \"semantic_type\": \"\",\n        \"description\": \"\"\n      }\n    },\n    {\n      \"column\": \"clean_text\",\n      \"properties\": {\n        \"dtype\": \"string\",\n        \"num_unique_values\": 66905,\n        \"samples\": [\n          \"if you kill someone to make a story of why google and vice journal the ny times play to every life science genre itll use this horrible photo of you\",\n          \"me too sure what\\u2019s happened to the google classroom reviews on iphone app here so i think it\\u2019s been spammed\",\n          \"they\"\n        ],\n        \"semantic_type\": \"\",\n        \"description\": \"\"\n      }\n    },\n    {\n      \"column\": \"lem\",\n      \"properties\": {\n        \"dtype\": \"object\",\n        \"semantic_type\": \"\",\n        \"description\": \"\"\n      }\n    },\n    {\n      \"column\": \"best\",\n      \"properties\": {\n        \"dtype\": \"object\",\n        \"semantic_type\": \"\",\n        \"description\": \"\"\n      }\n    },\n    {\n      \"column\": \"sentiment_score\",\n      \"properties\": {\n        \"dtype\": \"number\",\n        \"std\": 1,\n        \"min\": -14,\n        \"max\": 14,\n        \"num_unique_values\": 26,\n        \"samples\": [\n          -2,\n          -8,\n          -1\n        ],\n        \"semantic_type\": \"\",\n        \"description\": \"\"\n      }\n    },\n    {\n      \"column\": \"sentiment_category\",\n      \"properties\": {\n        \"dtype\": \"category\",\n        \"num_unique_values\": 3,\n        \"samples\": [\n          \"Negative\",\n          \"Positive\",\n          \"Neutral\"\n        ],\n        \"semantic_type\": \"\",\n        \"description\": \"\"\n      }\n    }\n  ]\n}"
            }
          },
          "metadata": {},
          "execution_count": 19
        }
      ]
    },
    {
      "cell_type": "markdown",
      "source": [
        "Расчитываем точность c помощью sklearn accuracy_score:"
      ],
      "metadata": {
        "id": "gsxXgQnIWu1z"
      }
    },
    {
      "cell_type": "code",
      "source": [
        "from sklearn.metrics import accuracy_score\n",
        "print(accuracy_score(df['sentiment'], df['sentiment_category']))"
      ],
      "metadata": {
        "colab": {
          "base_uri": "https://localhost:8080/"
        },
        "id": "mcnwceDMVWtg",
        "outputId": "bbf6a430-a3de-41eb-a136-c96ae8fa218e"
      },
      "execution_count": 20,
      "outputs": [
        {
          "output_type": "stream",
          "name": "stdout",
          "text": [
            "0.4091803805519476\n"
          ]
        }
      ]
    },
    {
      "cell_type": "markdown",
      "source": [
        "# 2. Теперь попробуем провести анализ тональности с помощью ML метода"
      ],
      "metadata": {
        "id": "iJjutWaSq3Fo"
      }
    },
    {
      "cell_type": "code",
      "source": [
        "from sklearn.feature_extraction.text import CountVectorizer\n",
        "count_vect = CountVectorizer() #создаём матрицу частот слов\n",
        "X_train_counts = count_vect.fit_transform(df['text'])"
      ],
      "metadata": {
        "id": "GjSuntRqDmph"
      },
      "execution_count": null,
      "outputs": []
    },
    {
      "cell_type": "markdown",
      "source": [
        "Преобразуем матрицу частот слов в формат TF-IDF"
      ],
      "metadata": {
        "id": "pYg0bRrex-0d"
      }
    },
    {
      "cell_type": "code",
      "source": [
        "from sklearn.feature_extraction.text import TfidfTransformer\n",
        "tfidf_transformer = TfidfTransformer()\n",
        "X_train_tfidf = tfidf_transformer.fit_transform(X_train_counts)"
      ],
      "metadata": {
        "id": "Cf9vd0izFVNX"
      },
      "execution_count": null,
      "outputs": []
    },
    {
      "cell_type": "markdown",
      "source": [
        "Применяем алгоритм наивного Байеса к TF-IDF частотам и имеющейся информации о тоне твита"
      ],
      "metadata": {
        "id": "vnCiqvn8zYT6"
      }
    },
    {
      "cell_type": "code",
      "source": [
        "from sklearn.naive_bayes import MultinomialNB\n",
        "clf = MultinomialNB().fit(X_train_tfidf, df['sentiment'])"
      ],
      "metadata": {
        "id": "VO_3zhgbFdVA"
      },
      "execution_count": null,
      "outputs": []
    },
    {
      "cell_type": "markdown",
      "source": [
        "Создаём pipeline для объединения всех процессов в один"
      ],
      "metadata": {
        "id": "HORcBdwsz9Yq"
      }
    },
    {
      "cell_type": "code",
      "source": [
        "from sklearn.pipeline import Pipeline\n",
        "text_clf = Pipeline([('vect', CountVectorizer()),\n",
        " ('tfidf', TfidfTransformer()),\n",
        "  ('clf', MultinomialNB())])"
      ],
      "metadata": {
        "id": "sp7oahTBFrlc"
      },
      "execution_count": null,
      "outputs": []
    },
    {
      "cell_type": "markdown",
      "source": [
        "Разделяем данные на обучающую и тестовую выборки в отношении 70:30"
      ],
      "metadata": {
        "id": "IpssryID0KR6"
      }
    },
    {
      "cell_type": "code",
      "source": [
        "from sklearn.model_selection import train_test_split\n",
        "x_train, x_test, y_train, y_test = train_test_split(\n",
        "    df['text'], df['sentiment'], test_size=0.3, random_state=42)"
      ],
      "metadata": {
        "id": "4CeJVhF1Ft1b"
      },
      "execution_count": null,
      "outputs": []
    },
    {
      "cell_type": "markdown",
      "source": [
        "Создаём новый Pipeline с помощью SGDClassifier, который использует стохастический градиентный спуск"
      ],
      "metadata": {
        "id": "9oT6TS9U04vM"
      }
    },
    {
      "cell_type": "code",
      "source": [
        "from sklearn.linear_model import SGDClassifier\n",
        "text_clf = Pipeline([\n",
        "     ('vect', CountVectorizer()),\n",
        "     ('tfidf', TfidfTransformer()),\n",
        "     ('clf', SGDClassifier(loss='hinge', penalty='l2',\n",
        "            alpha=1e-3, random_state=42,\n",
        "              max_iter=6, tol=None))])"
      ],
      "metadata": {
        "id": "F2IrC_MFF3uT"
      },
      "execution_count": null,
      "outputs": []
    },
    {
      "cell_type": "markdown",
      "source": [
        "Вычислим среднюю точность предсказаний"
      ],
      "metadata": {
        "id": "WA1HP2R21Qy5"
      }
    },
    {
      "cell_type": "code",
      "source": [
        "text_clf.fit(df['text'], df['sentiment'])\n",
        "predicted = text_clf.predict(x_test)\n",
        "np.mean(predicted == y_test)"
      ],
      "metadata": {
        "colab": {
          "base_uri": "https://localhost:8080/"
        },
        "id": "vHbz1YNn02GF",
        "outputId": "db5693cd-b418-4b26-9f33-47a5417ca3ae"
      },
      "execution_count": null,
      "outputs": [
        {
          "output_type": "execute_result",
          "data": {
            "text/plain": [
              "0.6552555233206874"
            ]
          },
          "metadata": {},
          "execution_count": 35
        }
      ]
    },
    {
      "cell_type": "markdown",
      "source": [
        "С помощью Grid search ищем наилучшие гиперпараметры для нашей модели, чтобы получить наибольшую точность предсказаний"
      ],
      "metadata": {
        "id": "JM1XkEex1yjp"
      }
    },
    {
      "cell_type": "code",
      "source": [
        "from sklearn.model_selection import GridSearchCV\n",
        "param_grid = {\n",
        "    'vect__max_features': [1000, 5000, None],\n",
        "    'clf__loss': ['hinge', 'log_loss'],\n",
        "    'clf__penalty': ['l2', 'l1', 'elasticnet'],\n",
        "    'clf__alpha': [1e-3, 1e-4],\n",
        "    'clf__max_iter': [5, 10],\n",
        "}\n",
        "grid_search = GridSearchCV(text_clf, param_grid, cv=3, n_jobs=-1, verbose=1)\n",
        "grid_search.fit(df['text'], df['sentiment'])\n",
        "predicted = grid_search.predict(x_test)\n",
        "accuracy = np.mean(predicted == y_test)\n",
        "print(\"Accuracy:\", accuracy)\n",
        "print(\"Best parameters found: \", grid_search.best_params_)"
      ],
      "metadata": {
        "colab": {
          "base_uri": "https://localhost:8080/"
        },
        "id": "xO1d-PSSGPpA",
        "outputId": "7264447e-494d-46e6-bf11-a08418de5103"
      },
      "execution_count": null,
      "outputs": [
        {
          "output_type": "stream",
          "name": "stdout",
          "text": [
            "Fitting 3 folds for each of 72 candidates, totalling 216 fits\n",
            "Accuracy: 0.6753403258201295\n",
            "Best parameters found:  {'clf__alpha': 0.0001, 'clf__loss': 'log_loss', 'clf__max_iter': 10, 'clf__penalty': 'l2', 'vect__max_features': None}\n"
          ]
        }
      ]
    },
    {
      "cell_type": "markdown",
      "source": [
        "# 3. Реализуем sentiment analysis с помощью модели hugging face.\n",
        "Результат записываем в отдельный столбец model. Поскольку функция sent_analyze возвращает список, дополнительно создаём функцию, которая будет преобразовать список в строки для того, чтобы потом провести оценку качества модели."
      ],
      "metadata": {
        "id": "luFhCFPT5uzi"
      }
    },
    {
      "cell_type": "code",
      "source": [
        "from transformers import AutoTokenizer, AutoModelForSequenceClassification\n",
        "import torch\n",
        "\n",
        "model_name = \"tabularisai/multilingual-sentiment-analysis\"\n",
        "tokenizer = AutoTokenizer.from_pretrained(model_name)\n",
        "model = AutoModelForSequenceClassification.from_pretrained(model_name)\n",
        "\n",
        "def sent_analyze(texts):\n",
        "    inputs = tokenizer(texts, return_tensors=\"pt\", truncation=True,\n",
        "                       padding=True, max_length=512)\n",
        "    with torch.no_grad():\n",
        "        outputs = model(**inputs)\n",
        "    probabilities = torch.nn.functional.softmax(outputs.logits, dim=-1)\n",
        "    sentiment_map = {0: \"Negative\", 1: \"Negative\", 2: \"Neutral\",\n",
        "                     3: \"Positive\", 4: \"Positive\"}\n",
        "    return [sentiment_map[p] for p in torch.argmax(probabilities,\n",
        "                                                   dim=-1).tolist()]\n",
        "\n",
        "df[\"model\"] = df[\"text\"].apply(lambda x: sent_analyze(x))\n",
        "df[\"model\"] = df[\"model\"].apply(lambda x: x[0])"
      ],
      "metadata": {
        "id": "slG1BhEkGXt7"
      },
      "execution_count": null,
      "outputs": []
    },
    {
      "cell_type": "markdown",
      "source": [
        "Оценим среднюю точность"
      ],
      "metadata": {
        "id": "GpQYdFdV3NsF"
      }
    },
    {
      "cell_type": "code",
      "source": [
        "from sklearn.metrics import accuracy_score\n",
        "print(accuracy_score(df['sentiment'], df['model']))"
      ],
      "metadata": {
        "colab": {
          "base_uri": "https://localhost:8080/"
        },
        "id": "8KyWck6FSE3F",
        "outputId": "282ddc10-c4b4-45d2-ea60-dfce94a1a68f"
      },
      "execution_count": null,
      "outputs": [
        {
          "output_type": "stream",
          "name": "stdout",
          "text": [
            "0.4088188428114246\n"
          ]
        }
      ]
    },
    {
      "cell_type": "markdown",
      "source": [
        "# Сравнение результатов разных методов анализа тональности\n",
        "\n",
        "\n",
        "1.   Rule-based method - 0.409\n",
        "2.   ML method - 0.655 (best=0.675)\n",
        "3.   Hugging Face Model - 0.408\n",
        "\n",
        "Таким образом получается, что rule-based method неэффективно распознает тональность текста, в частности из-за того, что финальное значение score, равное 0, сложно получить (соответственно, скорее всего имеется много несовпадений по тональности Neutral).\n",
        "\n",
        "Метод машинного обучения показывает наилучшие результаты среди представленных. Точность 0.655 является относительно хорошей, особенно по сравнению с другими методами. В процессе настройки или на других данных этот метод может достигать даже более высокой точности. Это свидетельствует о том, что метод имеет потенциал для улучшения через дообучение или оптимизацию гиперпараметров.\n",
        "\n",
        "Показатель 0.408 также низкий и близок к результату rule-based метода. Это может указывать на то, что в данной конкретной задаче модель Hugging Face не смогла эффективно извлечь контекст или особенности текста. Также у модели есть ограничение на то, что она может принимать текст в максимум 512 символов, тогда как в данном датафрейме максимальная длина может достигать 957 символов.\n",
        "\n",
        "\n"
      ],
      "metadata": {
        "id": "fQWhomoH9vuB"
      }
    },
    {
      "cell_type": "code",
      "source": [
        "max_length = df['text'].str.len().max()\n",
        "print(max_length)"
      ],
      "metadata": {
        "colab": {
          "base_uri": "https://localhost:8080/"
        },
        "id": "VtjuYkVmSV_T",
        "outputId": "6be89e71-6149-44ab-8b3f-70869b7e25b1"
      },
      "execution_count": 23,
      "outputs": [
        {
          "output_type": "stream",
          "name": "stdout",
          "text": [
            "957\n"
          ]
        }
      ]
    }
  ]
}